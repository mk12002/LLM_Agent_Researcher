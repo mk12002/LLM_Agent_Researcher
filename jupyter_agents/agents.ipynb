{
 "cells": [
  {
   "cell_type": "code",
   "execution_count": 2,
   "id": "4dbade8f",
   "metadata": {},
   "outputs": [],
   "source": [
    "import sys\n",
    "sys.path.append('.')"
   ]
  },
  {
   "cell_type": "code",
   "execution_count": 3,
   "id": "03ee90a6-90bf-4200-9c7b-1c81ed74594d",
   "metadata": {},
   "outputs": [],
   "source": [
    "from crewai import Agent\n",
    "import os\n",
    "from tools import tool\n",
    "from langchain_google_genai import ChatGoogleGenerativeAI"
   ]
  },
  {
   "cell_type": "code",
   "execution_count": 3,
   "id": "356665af-86a0-43cf-b838-258ce57b596c",
   "metadata": {},
   "outputs": [
    {
     "data": {
      "text/plain": [
       "True"
      ]
     },
     "execution_count": 3,
     "metadata": {},
     "output_type": "execute_result"
    }
   ],
   "source": [
    "from dotenv import load_dotenv\n",
    "load_dotenv()"
   ]
  },
  {
   "cell_type": "code",
   "execution_count": 4,
   "id": "003490a5-c94c-4a4a-97f5-da2b05b6e89f",
   "metadata": {},
   "outputs": [],
   "source": [
    "llm = ChatGoogleGenerativeAI(\n",
    "    model=\"gemini-1.5-flash\",\n",
    "    verbose=True,\n",
    "    temperature=0.5,\n",
    "    google_api_key=os.getenv(\"GOOGLE_API_KEY\")\n",
    ")"
   ]
  },
  {
   "cell_type": "code",
   "execution_count": 5,
   "id": "85d0644c-cf66-4c8e-8f99-a181799c71b7",
   "metadata": {},
   "outputs": [],
   "source": [
    "news_researcher = Agent(\n",
    "    role=\"Senior Researcher\",\n",
    "    goal='Uncover ground breaking technologies in {topic}',\n",
    "    verbose=True,\n",
    "    memory=True,\n",
    "    backstory=(\"Driven by curiosity,you are at the forefront of innovation, \"\n",
    "               \"eager to explore and share knowlledge that could \"\n",
    "               \"change the world.\"),\n",
    "    tools=[tool],\n",
    "    llm=llm,\n",
    "    allow_delegation=True,\n",
    "    max_consecutive_auto_reply=3\n",
    ")"
   ]
  },
  {
   "cell_type": "code",
   "execution_count": 6,
   "id": "9af2a03b",
   "metadata": {},
   "outputs": [],
   "source": [
    "news_writer = Agent(\n",
    "    role=\"Writer\",\n",
    "    goal='Narrate compelling tech stories about {topic}',\n",
    "    verbose=True,\n",
    "    memory=True,\n",
    "    backstory=(\"With a flair for simplifying complex topics, you craft \"\n",
    "               \"engaging narratives that captivate and educate, bringing new \"\n",
    "               \"discoveries to light in an accessible manner.\"),\n",
    "    tools=[tool],\n",
    "    llm=llm,\n",
    "    allow_delegation=False\n",
    ")"
   ]
  },
  {
   "cell_type": "code",
   "execution_count": null,
   "id": "2bbb3f5d",
   "metadata": {},
   "outputs": [],
   "source": []
  }
 ],
 "metadata": {
  "kernelspec": {
   "display_name": "Python 3 (ipykernel)",
   "language": "python",
   "name": "python3"
  },
  "language_info": {
   "codemirror_mode": {
    "name": "ipython",
    "version": 3
   },
   "file_extension": ".py",
   "mimetype": "text/x-python",
   "name": "python",
   "nbconvert_exporter": "python",
   "pygments_lexer": "ipython3",
   "version": "3.10.0"
  }
 },
 "nbformat": 4,
 "nbformat_minor": 5
}
