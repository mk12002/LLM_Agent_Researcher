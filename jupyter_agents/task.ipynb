{
 "cells": [
  {
   "cell_type": "code",
   "execution_count": 1,
   "id": "b268a7a2-f4b1-4819-8e3c-d29a00310119",
   "metadata": {},
   "outputs": [],
   "source": [
    "from crewai import Task\n",
    "from tools import tool\n",
    "from agents import news_researcher, news_writer"
   ]
  },
  {
   "cell_type": "code",
   "execution_count": 2,
   "id": "dd16d448",
   "metadata": {},
   "outputs": [],
   "source": [
    "research_task = Task(\n",
    "    description=(\n",
    "        \"Identify the next big trend in {topic}.\"\n",
    "        \"Focus on identifying pros and cons and the overall narrative.\"\n",
    "        \"Your final report should clearly articulate the key points,\"\n",
    "        \"its market opportunities, and potential risks.\"\n",
    "    ),\n",
    "    expected_output=('A comprehensive 3 paragraphs long report on the latest '\n",
    "                     'AI trends.'),\n",
    "    tools=[tool],\n",
    "    agent=news_researcher,\n",
    ")"
   ]
  },
  {
   "cell_type": "code",
   "execution_count": 3,
   "id": "fcbe8b5f",
   "metadata": {},
   "outputs": [],
   "source": [
    "write_task = Task(\n",
    "    description=(\n",
    "        \"Compose an insightful article on {topic}.\"\n",
    "        \"Focus on the latest trends and how it's impacting the industry.\"\n",
    "        \"This article should be easy to understand, engaging and positive.\"\n",
    "    ),\n",
    "    expected_output=('A 4 paragraph article on {topic} advancvements '\n",
    "                     'formatted as markdown.'),\n",
    "    tools=[tool],\n",
    "    agent=news_writer,\n",
    "    async_execution=False,\n",
    "    output_file='new-blog-post.md'\n",
    ")"
   ]
  },
  {
   "cell_type": "code",
   "execution_count": null,
   "id": "d0f632d1",
   "metadata": {},
   "outputs": [],
   "source": []
  }
 ],
 "metadata": {
  "kernelspec": {
   "display_name": "Python 3 (ipykernel)",
   "language": "python",
   "name": "python3"
  },
  "language_info": {
   "codemirror_mode": {
    "name": "ipython",
    "version": 3
   },
   "file_extension": ".py",
   "mimetype": "text/x-python",
   "name": "python",
   "nbconvert_exporter": "python",
   "pygments_lexer": "ipython3",
   "version": "3.10.0"
  }
 },
 "nbformat": 4,
 "nbformat_minor": 5
}
