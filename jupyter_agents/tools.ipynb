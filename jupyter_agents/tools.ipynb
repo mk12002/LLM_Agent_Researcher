{
 "cells": [
  {
   "cell_type": "code",
   "execution_count": 1,
   "id": "f7453d30-6bf2-4e74-ba14-7644e25335b0",
   "metadata": {},
   "outputs": [],
   "source": [
    "from dotenv import load_dotenv\n",
    "load_dotenv()\n",
    "\n",
    "import os"
   ]
  },
  {
   "cell_type": "code",
   "execution_count": 2,
   "id": "1f6fa5bf-2871-4797-814e-ea8716f273c5",
   "metadata": {},
   "outputs": [],
   "source": [
    "os.environ['SERPER_API_KEY']=os.getenv('SERPER_API_KEY')"
   ]
  },
  {
   "cell_type": "code",
   "execution_count": 3,
   "id": "a32eff0d-8411-4dba-ad53-28c1fd55b02b",
   "metadata": {},
   "outputs": [],
   "source": [
    "from crewai_tools import SerperDevTool"
   ]
  },
  {
   "cell_type": "code",
   "execution_count": 4,
   "id": "d4f79bbc-a112-42ff-b5e3-4b68847f863f",
   "metadata": {},
   "outputs": [],
   "source": [
    "tool = SerperDevTool()"
   ]
  },
  {
   "cell_type": "code",
   "execution_count": null,
   "id": "7cc5921b",
   "metadata": {},
   "outputs": [],
   "source": []
  }
 ],
 "metadata": {
  "kernelspec": {
   "display_name": "Python 3 (ipykernel)",
   "language": "python",
   "name": "python3"
  },
  "language_info": {
   "codemirror_mode": {
    "name": "ipython",
    "version": 3
   },
   "file_extension": ".py",
   "mimetype": "text/x-python",
   "name": "python",
   "nbconvert_exporter": "python",
   "pygments_lexer": "ipython3",
   "version": "3.10.0"
  }
 },
 "nbformat": 4,
 "nbformat_minor": 5
}
